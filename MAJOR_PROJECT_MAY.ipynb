{
 "cells": [
  {
   "cell_type": "code",
   "execution_count": 1,
   "id": "e94de24f",
   "metadata": {},
   "outputs": [
    {
     "data": {
      "text/html": [
       "<div>\n",
       "<style scoped>\n",
       "    .dataframe tbody tr th:only-of-type {\n",
       "        vertical-align: middle;\n",
       "    }\n",
       "\n",
       "    .dataframe tbody tr th {\n",
       "        vertical-align: top;\n",
       "    }\n",
       "\n",
       "    .dataframe thead th {\n",
       "        text-align: right;\n",
       "    }\n",
       "</style>\n",
       "<table border=\"1\" class=\"dataframe\">\n",
       "  <thead>\n",
       "    <tr style=\"text-align: right;\">\n",
       "      <th></th>\n",
       "      <th>Review</th>\n",
       "      <th>Liked</th>\n",
       "    </tr>\n",
       "  </thead>\n",
       "  <tbody>\n",
       "    <tr>\n",
       "      <th>0</th>\n",
       "      <td>Wow... Loved this place.</td>\n",
       "      <td>1</td>\n",
       "    </tr>\n",
       "    <tr>\n",
       "      <th>1</th>\n",
       "      <td>Crust is not good.</td>\n",
       "      <td>0</td>\n",
       "    </tr>\n",
       "    <tr>\n",
       "      <th>2</th>\n",
       "      <td>Not tasty and the texture was just nasty.</td>\n",
       "      <td>0</td>\n",
       "    </tr>\n",
       "    <tr>\n",
       "      <th>3</th>\n",
       "      <td>Stopped by during the late May bank holiday of...</td>\n",
       "      <td>1</td>\n",
       "    </tr>\n",
       "    <tr>\n",
       "      <th>4</th>\n",
       "      <td>The selection on the menu was great and so wer...</td>\n",
       "      <td>1</td>\n",
       "    </tr>\n",
       "    <tr>\n",
       "      <th>...</th>\n",
       "      <td>...</td>\n",
       "      <td>...</td>\n",
       "    </tr>\n",
       "    <tr>\n",
       "      <th>995</th>\n",
       "      <td>I think food should have flavor and texture an...</td>\n",
       "      <td>0</td>\n",
       "    </tr>\n",
       "    <tr>\n",
       "      <th>996</th>\n",
       "      <td>Appetite instantly gone.</td>\n",
       "      <td>0</td>\n",
       "    </tr>\n",
       "    <tr>\n",
       "      <th>997</th>\n",
       "      <td>Overall I was not impressed and would not go b...</td>\n",
       "      <td>0</td>\n",
       "    </tr>\n",
       "    <tr>\n",
       "      <th>998</th>\n",
       "      <td>The whole experience was underwhelming, and I ...</td>\n",
       "      <td>0</td>\n",
       "    </tr>\n",
       "    <tr>\n",
       "      <th>999</th>\n",
       "      <td>Then, as if I hadn't wasted enough of my life ...</td>\n",
       "      <td>0</td>\n",
       "    </tr>\n",
       "  </tbody>\n",
       "</table>\n",
       "<p>1000 rows × 2 columns</p>\n",
       "</div>"
      ],
      "text/plain": [
       "                                                Review  Liked\n",
       "0                             Wow... Loved this place.      1\n",
       "1                                   Crust is not good.      0\n",
       "2            Not tasty and the texture was just nasty.      0\n",
       "3    Stopped by during the late May bank holiday of...      1\n",
       "4    The selection on the menu was great and so wer...      1\n",
       "..                                                 ...    ...\n",
       "995  I think food should have flavor and texture an...      0\n",
       "996                           Appetite instantly gone.      0\n",
       "997  Overall I was not impressed and would not go b...      0\n",
       "998  The whole experience was underwhelming, and I ...      0\n",
       "999  Then, as if I hadn't wasted enough of my life ...      0\n",
       "\n",
       "[1000 rows x 2 columns]"
      ]
     },
     "execution_count": 1,
     "metadata": {},
     "output_type": "execute_result"
    }
   ],
   "source": [
    "#importing the needed libraries and importing the dataset\n",
    "import pandas as pd\n",
    "import seaborn as sns\n",
    "import matplotlib.pyplot as plt\n",
    "import numpy\n",
    "df=pd.read_csv(r'C:\\kamal\\internship\\Restaurant_Reviews.tsv',sep='\\t')\n",
    "df\n"
   ]
  },
  {
   "cell_type": "code",
   "execution_count": 2,
   "id": "2f446b26",
   "metadata": {},
   "outputs": [
    {
     "name": "stdout",
     "output_type": "stream",
     "text": [
      "<class 'pandas.core.frame.DataFrame'>\n",
      "RangeIndex: 1000 entries, 0 to 999\n",
      "Data columns (total 2 columns):\n",
      " #   Column  Non-Null Count  Dtype \n",
      "---  ------  --------------  ----- \n",
      " 0   Review  1000 non-null   object\n",
      " 1   Liked   1000 non-null   int64 \n",
      "dtypes: int64(1), object(1)\n",
      "memory usage: 15.8+ KB\n"
     ]
    }
   ],
   "source": [
    "df.info()"
   ]
  },
  {
   "cell_type": "code",
   "execution_count": 3,
   "id": "c46c2e59",
   "metadata": {},
   "outputs": [
    {
     "data": {
      "text/html": [
       "<div>\n",
       "<style scoped>\n",
       "    .dataframe tbody tr th:only-of-type {\n",
       "        vertical-align: middle;\n",
       "    }\n",
       "\n",
       "    .dataframe tbody tr th {\n",
       "        vertical-align: top;\n",
       "    }\n",
       "\n",
       "    .dataframe thead th {\n",
       "        text-align: right;\n",
       "    }\n",
       "</style>\n",
       "<table border=\"1\" class=\"dataframe\">\n",
       "  <thead>\n",
       "    <tr style=\"text-align: right;\">\n",
       "      <th></th>\n",
       "      <th>Liked</th>\n",
       "    </tr>\n",
       "  </thead>\n",
       "  <tbody>\n",
       "    <tr>\n",
       "      <th>count</th>\n",
       "      <td>1000.00000</td>\n",
       "    </tr>\n",
       "    <tr>\n",
       "      <th>mean</th>\n",
       "      <td>0.50000</td>\n",
       "    </tr>\n",
       "    <tr>\n",
       "      <th>std</th>\n",
       "      <td>0.50025</td>\n",
       "    </tr>\n",
       "    <tr>\n",
       "      <th>min</th>\n",
       "      <td>0.00000</td>\n",
       "    </tr>\n",
       "    <tr>\n",
       "      <th>25%</th>\n",
       "      <td>0.00000</td>\n",
       "    </tr>\n",
       "    <tr>\n",
       "      <th>50%</th>\n",
       "      <td>0.50000</td>\n",
       "    </tr>\n",
       "    <tr>\n",
       "      <th>75%</th>\n",
       "      <td>1.00000</td>\n",
       "    </tr>\n",
       "    <tr>\n",
       "      <th>max</th>\n",
       "      <td>1.00000</td>\n",
       "    </tr>\n",
       "  </tbody>\n",
       "</table>\n",
       "</div>"
      ],
      "text/plain": [
       "            Liked\n",
       "count  1000.00000\n",
       "mean      0.50000\n",
       "std       0.50025\n",
       "min       0.00000\n",
       "25%       0.00000\n",
       "50%       0.50000\n",
       "75%       1.00000\n",
       "max       1.00000"
      ]
     },
     "execution_count": 3,
     "metadata": {},
     "output_type": "execute_result"
    }
   ],
   "source": [
    "df.describe()"
   ]
  },
  {
   "cell_type": "code",
   "execution_count": 4,
   "id": "cc35f5f6",
   "metadata": {},
   "outputs": [
    {
     "data": {
      "text/plain": [
       "2"
      ]
     },
     "execution_count": 4,
     "metadata": {},
     "output_type": "execute_result"
    }
   ],
   "source": [
    "df['Liked'].nunique()"
   ]
  },
  {
   "cell_type": "code",
   "execution_count": 5,
   "id": "57c4b093",
   "metadata": {},
   "outputs": [
    {
     "data": {
      "text/plain": [
       "996"
      ]
     },
     "execution_count": 5,
     "metadata": {},
     "output_type": "execute_result"
    }
   ],
   "source": [
    "df['Review'].nunique()"
   ]
  },
  {
   "cell_type": "code",
   "execution_count": 6,
   "id": "9a09da3b",
   "metadata": {},
   "outputs": [
    {
     "data": {
      "text/plain": [
       "Index(['Review', 'Liked'], dtype='object')"
      ]
     },
     "execution_count": 6,
     "metadata": {},
     "output_type": "execute_result"
    }
   ],
   "source": [
    "df.columns"
   ]
  },
  {
   "cell_type": "code",
   "execution_count": 7,
   "id": "2689430f",
   "metadata": {},
   "outputs": [
    {
     "data": {
      "text/plain": [
       "<AxesSubplot:xlabel='Liked', ylabel='count'>"
      ]
     },
     "execution_count": 7,
     "metadata": {},
     "output_type": "execute_result"
    },
    {
     "data": {
      "image/png": "[encoded data removed]",
      "text/plain": [
       "<Figure size 576x360 with 1 Axes>"
      ]
     },
     "metadata": {
      "needs_background": "light"
     },
     "output_type": "display_data"
    }
   ],
   "source": [
    "#visualizing the data\n",
    "plt.figure(figsize=(8,5))\n",
    "sns.countplot(x=df.Liked)"
   ]
  },
  {
   "cell_type": "code",
   "execution_count": 8,
   "id": "ad981dc8",
   "metadata": {},
   "outputs": [],
   "source": [
    "#defining the x and y values\n",
    "y=df['Liked'].values\n",
    "x=df['Review'].values\n"
   ]
  },
  {
   "cell_type": "code",
   "execution_count": 9,
   "id": "1fc500f3",
   "metadata": {},
   "outputs": [],
   "source": [
    "#spliting the datsets into training and testing models\n",
    "from sklearn.model_selection import train_test_split\n",
    "x_train,x_test,y_train,y_test=train_test_split(x,y,random_state=0)"
   ]
  },
  {
   "cell_type": "code",
   "execution_count": 10,
   "id": "8839301e",
   "metadata": {},
   "outputs": [
    {
     "data": {
      "text/plain": [
       "(750,)"
      ]
     },
     "execution_count": 10,
     "metadata": {},
     "output_type": "execute_result"
    }
   ],
   "source": [
    "#viewing the sahpe of x_train\n",
    "x_train.shape"
   ]
  },
  {
   "cell_type": "code",
   "execution_count": 11,
   "id": "f41b283a",
   "metadata": {},
   "outputs": [
    {
     "data": {
      "text/plain": [
       "(250,)"
      ]
     },
     "execution_count": 11,
     "metadata": {},
     "output_type": "execute_result"
    }
   ],
   "source": [
    "#viewing the sahpe of x_test\n",
    "x_test.shape"
   ]
  },
  {
   "cell_type": "code",
   "execution_count": 12,
   "id": "43499771",
   "metadata": {},
   "outputs": [
    {
     "data": {
      "text/plain": [
       "(750,)"
      ]
     },
     "execution_count": 12,
     "metadata": {},
     "output_type": "execute_result"
    }
   ],
   "source": [
    "#viewing the sahpe of y_train\n",
    "y_train.shape"
   ]
  },
  {
   "cell_type": "code",
   "execution_count": 13,
   "id": "8cd2d1da",
   "metadata": {},
   "outputs": [
    {
     "data": {
      "text/plain": [
       "(250,)"
      ]
     },
     "execution_count": 13,
     "metadata": {},
     "output_type": "execute_result"
    }
   ],
   "source": [
    "#viewing the sahpe of y_test\n",
    "y_test.shape"
   ]
  },
  {
   "cell_type": "code",
   "execution_count": 15,
   "id": "593d5bb8",
   "metadata": {},
   "outputs": [
    {
     "data": {
      "text/plain": [
       "<750x1510 sparse matrix of type '<class 'numpy.int64'>'\n",
       "\twith 3681 stored elements in Compressed Sparse Row format>"
      ]
     },
     "execution_count": 15,
     "metadata": {},
     "output_type": "execute_result"
    }
   ],
   "source": [
    "#importing the countvectorizer and removing the stopwords \n",
    "#\n",
    "from sklearn.feature_extraction.text import CountVectorizer\n",
    "vect=CountVectorizer(stop_words='english')\n",
    "x_train_vect=vect.fit_transform(x_train)\n",
    "x_test_vect=vect.transform(x_test)\n",
    "\n"
   ]
  },
  {
   "cell_type": "code",
   "execution_count": 26,
   "id": "8aca4704",
   "metadata": {},
   "outputs": [
    {
     "data": {
      "text/plain": [
       "array([[0, 0, 0, ..., 0, 0, 0],\n",
       "       [0, 0, 0, ..., 0, 0, 0],\n",
       "       [0, 0, 0, ..., 0, 1, 0],\n",
       "       ...,\n",
       "       [0, 0, 0, ..., 0, 0, 0],\n",
       "       [0, 0, 0, ..., 0, 0, 0],\n",
       "       [0, 0, 0, ..., 0, 0, 0]], dtype=int64)"
      ]
     },
     "execution_count": 26,
     "metadata": {},
     "output_type": "execute_result"
    }
   ],
   "source": [
    "x_train_vect.toarray() #gives a sparse representation of numbers after converting from text "
   ]
  },
  {
   "cell_type": "code",
   "execution_count": 16,
   "id": "be64d684",
   "metadata": {},
   "outputs": [
    {
     "data": {
      "text/plain": [
       "array([-7.02565290e-07,  1.00000508e+00,  9.99994061e-01, -3.09348943e-06,\n",
       "        6.28510178e-06,  1.77315103e-01,  1.00002389e+00,  1.00002506e+00,\n",
       "       -2.00309930e-06,  1.00000299e+00, -3.72371920e-07,  1.33211298e+00,\n",
       "        8.78405601e-01, -1.23706316e-01, -4.62898891e-06,  1.00000538e+00,\n",
       "        9.99997168e-01,  1.86779660e-06,  9.99999220e-01, -1.60289297e-06,\n",
       "        3.69988574e-06, -4.58086716e-06,  1.00000438e+00,  9.99999195e-01,\n",
       "        1.51776121e-05,  1.00000073e+00,  1.00001070e+00,  9.99982391e-01,\n",
       "        7.86979859e-06,  1.00000128e+00,  6.18655921e-07, -5.16728818e-06,\n",
       "        9.99991312e-01,  1.00000045e+00,  1.00000430e+00, -1.90491405e-07,\n",
       "        1.00000234e+00,  1.68521898e-06,  1.00000448e+00, -2.45091459e-06,\n",
       "       -5.39702490e-06, -1.65809612e-06,  1.00000040e+00, -2.39374720e-09,\n",
       "        3.68180305e-06, -3.52072443e-06, -3.66212034e-07, -1.45393038e-07,\n",
       "        9.99999934e-01,  1.00000307e+00,  1.00000628e+00, -1.18587807e-06,\n",
       "        9.95649143e-01,  1.00000111e+00,  9.99997754e-01,  1.00000083e+00,\n",
       "        2.75478524e-06,  2.78519807e-06,  1.15183787e+00, -1.29481031e-02,\n",
       "        2.19285294e-06,  3.73538424e-06,  2.74704551e-06,  5.79651948e-07,\n",
       "       -1.52661329e-06,  1.69491284e-01,  1.00000461e+00,  9.99998299e-01,\n",
       "        9.99984075e-01,  1.00000177e+00,  1.17884096e-06,  8.81324753e-06,\n",
       "       -4.34871120e-02,  3.85790789e-02,  5.97416943e-06,  7.16551363e-06,\n",
       "        1.00000103e+00,  1.00001328e+00,  1.00000187e+00,  1.00000442e+00,\n",
       "        9.99980543e-01, -1.07637327e-06,  9.99999690e-01,  1.58475533e-01,\n",
       "        1.00000006e+00,  2.87934327e-06,  9.99998466e-01,  3.63593101e-06,\n",
       "       -4.44822750e-06,  1.00000243e+00,  1.59905044e-06,  1.00000250e+00,\n",
       "        1.30783415e-06, -1.74410936e-06,  9.99992889e-01, -1.85369213e-06,\n",
       "        9.99997882e-01, -3.27702894e-07,  2.16786867e-06,  4.24987798e-07,\n",
       "        1.00000364e+00,  1.00000183e+00,  9.99995648e-01,  1.83352462e-06,\n",
       "       -1.81446178e-06,  4.54663338e-06,  1.00000012e+00,  1.08354950e+00,\n",
       "        9.99993039e-01,  1.36567267e-07, -1.44576458e-06,  1.90665905e-05,\n",
       "       -2.18510885e-06, -4.38565957e-06,  1.00000258e+00,  2.62738484e-06,\n",
       "        3.64871214e-06,  9.61402959e-01,  2.69110385e-02, -3.74791820e-06,\n",
       "       -3.05733285e-06,  1.44795587e-06,  1.00000702e+00,  2.44901964e-06,\n",
       "        1.10413120e-05, -2.63017393e-06, -3.53511064e-06, -1.27353361e-05,\n",
       "        1.00000522e+00,  1.00001360e+00,  9.99989332e-01,  1.00000662e+00,\n",
       "        9.99995266e-01,  9.99999314e-01, -6.77990094e-06, -9.19073702e-07,\n",
       "        9.99998767e-01, -1.15713507e-06,  1.04482545e+00,  1.03862256e+00,\n",
       "        9.99998131e-01,  1.00000687e+00,  2.92220010e-08,  5.32061557e-06,\n",
       "        9.99993838e-01, -2.43573268e-06,  2.99365967e-06, -3.85781611e-02,\n",
       "        9.89913536e-07,  4.09829804e-06,  1.00000670e+00,  9.99998954e-01,\n",
       "        9.99998982e-01,  9.30822040e-07,  9.99997732e-01,  9.99985645e-01,\n",
       "       -3.43869775e-06,  1.00000146e+00,  9.99999593e-01,  9.99997553e-01,\n",
       "        3.25026033e-06,  9.99998848e-01,  9.99994369e-01,  1.91962785e-06,\n",
       "       -3.70330965e-06,  1.36173158e-06,  1.00000291e+00,  9.67259244e-01,\n",
       "        1.01630005e-06,  1.00000190e+00, -8.55197193e-08,  9.99998736e-01,\n",
       "       -6.98376672e-06,  3.28670404e-06,  5.17790251e-06, -8.53790173e-07,\n",
       "        1.17409698e-06,  1.00001140e+00,  6.87054668e-06,  9.99993702e-01,\n",
       "        6.42761693e-07, -9.35476062e-07,  9.99996873e-01,  1.69017535e-07,\n",
       "        9.19297961e-01, -7.95316124e-06,  9.99996674e-01,  1.00000446e+00,\n",
       "       -8.53790173e-07,  1.00000043e+00,  9.11827390e-01,  1.00000325e+00,\n",
       "        3.01036876e-06,  3.21262802e-06,  9.99998954e-01,  9.16468262e-01,\n",
       "        1.01651868e+00,  9.99999345e-01,  1.00435919e+00,  5.56284784e-07,\n",
       "        9.99997020e-01,  9.99999315e-01, -5.76390298e-06,  3.64188154e-08,\n",
       "       -2.44974903e-06,  9.99998456e-01,  2.26791891e-06, -2.74839401e-06,\n",
       "        9.99982569e-01,  5.08253238e-06,  3.77727106e-06,  1.20352791e-06,\n",
       "        9.99995537e-01,  3.73092631e-06, -4.02059978e-06, -3.33829938e-07,\n",
       "       -6.63864555e-06,  1.00000461e+00,  1.00000214e+00,  1.00000050e+00,\n",
       "       -8.38703613e-02,  6.31780125e-06,  9.99999149e-01, -5.47901036e-07,\n",
       "        1.00000211e+00,  9.99993804e-01,  2.11955522e-05,  1.14819104e-06,\n",
       "        1.00000331e+00,  5.07612749e-06,  9.67259244e-01,  4.22533867e-07,\n",
       "        2.24070081e-06,  9.99997244e-01,  1.62623961e-05,  9.99997638e-01,\n",
       "        1.00000466e+00,  1.50649643e-05,  1.00000122e+00, -1.82792685e-02,\n",
       "        7.12831582e-01,  1.00001176e+00,  1.00981827e-05,  9.99969967e-01,\n",
       "        9.99994455e-01,  5.71865737e-06,  9.99997823e-01,  9.99979584e-01,\n",
       "        9.99995822e-01,  1.00000315e+00,  9.99998593e-01,  9.99995747e-01,\n",
       "        1.00000130e+00,  1.00000252e+00,  3.52012714e-06,  9.99996446e-01,\n",
       "       -1.28442797e-06,  9.99976170e-01,  9.99996807e-01,  9.95672154e-01,\n",
       "        1.00000380e+00,  1.54225049e-06,  1.00000331e+00, -7.82458519e-07,\n",
       "        1.06549489e+00, -8.53790173e-07,  1.00000226e+00,  1.40896113e-06,\n",
       "        3.04003088e-01,  1.00000215e+00,  1.00000313e+00,  3.12791505e-07,\n",
       "        9.99999162e-01, -5.39702490e-06,  1.00001746e+00,  9.99998386e-01,\n",
       "        9.99997955e-01,  1.00000944e+00,  9.99997570e-01,  9.99994462e-01,\n",
       "        1.00000929e+00,  3.68918104e-06, -1.07881390e-06,  9.99999522e-01,\n",
       "        1.00000644e+00,  1.00000602e+00,  8.58308152e-07,  1.69491284e-01,\n",
       "        1.00000143e+00,  9.99998282e-01,  1.73199847e-06,  9.99996950e-01,\n",
       "       -9.34358192e-02,  1.00000894e+00, -7.87388393e-07,  3.42063270e-06,\n",
       "       -7.10262484e-06,  1.00000257e+00,  1.00000401e+00,  9.99994759e-01,\n",
       "       -6.23842982e-06,  9.99994884e-01,  9.99998071e-01,  9.99999837e-01,\n",
       "        1.00000590e+00,  1.00000014e+00,  9.99998652e-01,  1.82657210e-06,\n",
       "        2.81704611e-06,  9.99999957e-01, -9.56836170e-06,  4.95657830e-01,\n",
       "        7.41397535e-07,  8.41430362e-06,  9.99999211e-01,  2.53025312e-07,\n",
       "       -3.26855552e-06, -6.92610730e-06,  1.06081224e+00, -1.98141925e-06,\n",
       "       -2.58163900e-06,  1.00000145e+00,  9.99986028e-01,  1.00000006e+00,\n",
       "        1.00000515e+00, -3.70660071e-06,  1.06008353e-06, -1.96093644e-06,\n",
       "       -4.03364996e-06,  1.00000401e+00,  2.28951182e-06,  1.00001332e+00,\n",
       "       -4.68522155e-06,  5.97824449e-06,  1.77329428e-01,  9.99995113e-01,\n",
       "        1.06081224e+00, -2.16339650e-06,  2.63196912e-06, -1.75599397e-06,\n",
       "        9.99998214e-01,  1.00000158e+00,  3.95421540e-06, -2.45323723e-05,\n",
       "        1.69491284e-01,  3.95322533e-07, -4.55880465e-06, -4.67682798e-02,\n",
       "        1.21049683e-01,  9.99985712e-01,  1.00000887e+00,  1.13543356e-06,\n",
       "        9.99976697e-01, -3.86983115e-06,  4.16026618e-05,  4.10039184e-06,\n",
       "        9.99992777e-01,  8.60302677e-01,  9.99999339e-01,  1.43882741e-06,\n",
       "       -2.05799219e-06,  6.36506234e-06,  3.00389599e-06, -1.21050403e-01,\n",
       "       -1.07600766e-01,  1.00000082e+00,  1.00000092e+00,  1.00000461e+00,\n",
       "        9.99996805e-01,  1.00000029e+00,  9.99999602e-01,  9.99999309e-01,\n",
       "        9.99995110e-01,  1.00000192e+00,  1.15697219e+00,  1.00000188e+00,\n",
       "        7.01555095e-02,  9.99997762e-01,  1.00000365e+00,  1.00001129e+00,\n",
       "        1.10941692e-06,  2.87796971e-05,  9.99993460e-01,  9.99997846e-01,\n",
       "       -5.13874447e-07,  9.99993525e-01,  1.00000255e+00,  1.00000383e+00,\n",
       "        1.54653231e-05, -1.93826075e-05, -1.99836128e-06,  9.99993446e-01,\n",
       "        9.99996051e-01,  6.14595935e-01,  1.00000428e+00, -1.18526480e-06,\n",
       "        4.76499590e-07,  8.30010282e-06,  6.13373520e-07,  9.99997723e-01,\n",
       "        4.19708261e-07, -2.53415046e-06,  5.59349649e-07,  1.07136060e-05,\n",
       "       -5.52091783e-06,  8.15880504e-06, -2.10672905e-05,  9.99991943e-01,\n",
       "        3.04003088e-01,  1.00000194e+00,  1.00000658e+00,  5.67983952e-06,\n",
       "        6.94944859e-07, -3.27190729e-06,  1.00006376e+00,  1.00000423e+00,\n",
       "        8.43035902e-01,  3.85604682e-06, -3.42181600e-06,  5.00000053e-01,\n",
       "        9.99990403e-01,  3.36820549e-06,  4.44909354e-06,  9.99997143e-01,\n",
       "       -3.21732172e-06, -3.10717607e-06, -3.85939642e-06,  9.99980189e-01,\n",
       "        1.62681098e-06,  3.12690129e-01,  1.69491284e-01,  7.60431599e-06,\n",
       "        1.00000142e+00,  9.30219339e-07,  1.00000224e+00,  7.44752599e-07,\n",
       "        9.99995235e-01,  9.99996013e-01,  1.15043491e-05,  5.31599753e-07,\n",
       "        9.99995885e-01,  4.31584351e-06,  9.99993086e-01,  9.99998943e-01,\n",
       "        9.99990748e-01, -5.50911882e-06,  7.23991476e-07, -4.20745484e-06,\n",
       "       -6.73490531e-06, -1.44367746e-07,  2.18945039e-06, -1.27800418e-06,\n",
       "        9.99952831e-01, -1.29481031e-02,  1.31802676e-06, -4.67509950e-06,\n",
       "        4.63680313e-06,  4.94771834e-06,  1.00000056e+00,  9.84244533e-07,\n",
       "        1.08070397e+00,  1.60238291e-06, -3.20004308e-06, -5.84343905e-07,\n",
       "        1.00000133e+00,  1.00000294e+00,  3.04003088e-01,  1.00000098e+00,\n",
       "        1.00000270e+00, -1.58475658e-01,  2.92103645e-06,  9.61476334e-07,\n",
       "        1.29062715e-06,  9.99990700e-01, -4.00293305e-02,  4.17999133e-07,\n",
       "        9.99999526e-01, -6.28740419e-07,  9.99999625e-01,  9.99999625e-01,\n",
       "       -1.18526480e-06,  9.99994907e-01,  9.99990033e-01,  9.99998338e-01,\n",
       "        1.00000077e+00,  7.99107052e-07,  1.00000299e+00, -4.54959774e-06,\n",
       "        9.99998416e-01, -1.77638920e-06,  9.99996559e-01,  3.36739328e-06,\n",
       "        7.94584348e-07,  9.99996534e-01,  2.54656373e-06,  7.75813396e-01,\n",
       "        1.00000173e+00,  1.00000272e+00,  5.82489134e-06,  8.40078480e-06,\n",
       "        1.00000081e+00, -1.18526480e-06, -2.12559565e-06,  1.00000004e+00,\n",
       "       -8.45418931e-06,  9.99998601e-01, -1.00036239e-06,  9.99997087e-01,\n",
       "       -5.01472817e-06,  1.00000795e+00, -2.48302237e-06, -2.11648758e-06,\n",
       "        6.24041607e-07,  1.00000047e+00, -5.42077373e-06,  1.00003632e+00,\n",
       "        9.99998167e-01,  9.99997640e-01,  1.00000340e+00,  9.99999372e-01,\n",
       "       -1.02327898e-06, -9.34473267e-02,  9.99991331e-01,  1.00000695e+00,\n",
       "       -5.42195028e-07,  1.00000870e+00, -3.07911651e-05,  9.99986462e-01,\n",
       "        1.00000280e+00,  1.00000029e+00,  1.24245827e-06,  9.99995839e-01,\n",
       "       -5.19528743e-06, -2.84260873e-06, -1.73778816e-06,  4.17871326e-06,\n",
       "        9.99999224e-01,  4.32744488e-01, -1.70469783e-06,  3.39134516e-07,\n",
       "       -7.82458519e-07,  5.79651948e-07,  1.00000183e+00,  9.99991592e-01,\n",
       "        9.99998645e-01, -1.09231167e-05,  9.99986680e-01,  9.99999493e-01,\n",
       "       -3.14313466e-06,  1.96949224e-07,  1.17697715e-06,  1.08810036e+00,\n",
       "        2.61789463e-06,  4.34824907e-02,  1.00000474e+00,  9.99999499e-01,\n",
       "        1.00000321e+00,  9.99999460e-01,  9.99998313e-01, -3.22835028e-06,\n",
       "        9.99997819e-01,  1.00000336e+00,  1.00000101e+00, -3.68344316e-05,\n",
       "        9.99992561e-01, -1.02604445e-05,  8.07184587e-02, -9.82262160e-07,\n",
       "        1.09260438e-06,  3.21391994e-06,  9.99999526e-01,  1.14255104e-06,\n",
       "        1.00000252e+00,  9.99988702e-01,  1.00000167e+00,  9.99999153e-01,\n",
       "       -5.23863318e-06, -2.46890552e-06,  1.90986057e-06,  1.00000490e+00,\n",
       "        9.99999231e-01,  5.79651948e-07,  1.00000023e+00,  3.41498696e-06,\n",
       "       -1.46974150e-06,  1.00000336e+00, -2.36141878e-07,  2.04394875e-07,\n",
       "        1.00000197e+00,  2.32236489e-06,  8.20179370e-07,  1.16571944e-06,\n",
       "        3.04003088e-01,  9.99998479e-01, -2.10458744e-06, -7.02602085e-06,\n",
       "        9.99996226e-01,  2.51292103e-06,  1.00000499e+00, -9.22818020e-07,\n",
       "        1.00000460e+00,  1.00000450e+00,  7.90868909e-01,  9.99997332e-01,\n",
       "        5.00000053e-01,  1.00001009e+00, -6.44075666e-06,  9.99999387e-01,\n",
       "        1.00000056e+00,  9.99994830e-01,  6.14595935e-01,  9.99989561e-01,\n",
       "       -1.31659128e-05,  4.71229477e-06,  1.00000662e+00,  1.84012657e-06,\n",
       "        1.65654634e-05,  3.37034795e-08,  9.99999811e-01,  9.21932916e-02,\n",
       "        9.99997432e-01,  1.00000512e+00, -9.06565938e-06, -1.51509157e-06,\n",
       "        1.99839607e-06,  9.99996226e-01,  9.21932916e-02,  9.99986974e-01,\n",
       "        9.99983031e-01,  9.99991124e-01,  7.68972779e-01, -1.16179058e-05,\n",
       "        2.77830036e-05, -2.11738029e-06,  1.11582262e-06,  1.00000172e+00,\n",
       "       -3.80448559e-06, -7.82458519e-07, -1.73794375e-07,  9.99969940e-01,\n",
       "        1.00000254e+00,  1.63080494e-06,  9.31978356e-07,  9.99997792e-01,\n",
       "        9.99995832e-01, -1.70003963e-06, -1.82792685e-02,  5.69105188e-06,\n",
       "        9.99996674e-01,  1.00000684e+00,  1.13690669e-06,  9.99994980e-01,\n",
       "        1.00000255e+00,  1.00000105e+00,  1.00000529e+00, -3.89804690e-06,\n",
       "        1.00000070e+00,  1.56968833e-01,  2.93212365e-06,  1.00000214e+00,\n",
       "        9.99996674e-01,  1.00000240e+00,  1.91043371e-06,  1.21596451e-01,\n",
       "        1.49929633e-07,  3.32486074e-06, -2.80194879e-06, -1.79738994e-05,\n",
       "        7.62198296e-06,  4.17336263e-06, -1.64335540e-06,  9.99998416e-01,\n",
       "        5.67256292e-01,  1.00000072e+00, -2.13858190e-06,  6.31001780e-07,\n",
       "       -8.53790173e-07,  8.67143293e-01,  1.00000381e+00,  4.33643583e-06,\n",
       "       -4.59924364e-06,  1.00000395e+00,  9.99997597e-01, -5.99752757e-06,\n",
       "        6.23834633e-06,  5.18238822e-06,  9.34448083e-02, -9.36355955e-07,\n",
       "        2.29860866e-06, -1.60540041e-05,  9.99992674e-01,  1.00433618e+00,\n",
       "        9.99994552e-01,  1.00000105e+00,  9.99998499e-01, -1.09359422e-06,\n",
       "        1.00000049e+00,  8.07074157e-02,  3.04429973e-06,  9.99987677e-01,\n",
       "       -8.53790173e-07,  9.99998778e-01,  9.55276845e-01,  5.32007105e-06,\n",
       "        3.75500879e-07, -4.89934475e-07,  9.99998555e-01,  7.84500436e-01,\n",
       "        2.72324916e-03,  9.99998576e-01,  1.00000087e+00,  1.00000184e+00,\n",
       "        1.00000654e+00,  9.99996031e-01,  9.99994524e-01,  2.02503244e-06,\n",
       "        9.99998234e-01,  8.48150768e-01, -9.35761023e-07,  2.39500070e-06,\n",
       "        1.00555894e-06,  5.04344871e-01,  9.99995969e-01, -6.09865416e-06,\n",
       "       -2.96356866e-06, -2.39590978e-06,  9.99992650e-01,  9.99980654e-01,\n",
       "        9.99983572e-01,  9.99999510e-01,  7.49824093e-07,  1.00000463e+00,\n",
       "        4.37139086e-07,  1.00000414e+00,  1.00000072e+00,  9.99994956e-01,\n",
       "        1.21059418e-01,  9.99991951e-01, -2.47096861e-06,  1.00000384e+00,\n",
       "        9.99999497e-01,  9.99995794e-01,  9.99997101e-01, -2.69663093e-02,\n",
       "        4.00345237e-02,  5.97220658e-06,  2.77618907e-06,  9.99999148e-01,\n",
       "        1.00000714e+00,  1.00000625e+00])"
      ]
     },
     "execution_count": 16,
     "metadata": {},
     "output_type": "execute_result"
    }
   ],
   "source": [
    "# Apply the ML algorithm to fit and predict \n",
    "from sklearn.linear_model import LinearRegression\n",
    "model=LinearRegression()\n",
    "model.fit(x_train_vect,y_train)\n",
    "y_pred=model.predict(x_train_vect)\n",
    "y_pred"
   ]
  },
  {
   "cell_type": "code",
   "execution_count": 17,
   "id": "fe8cc201",
   "metadata": {},
   "outputs": [
    {
     "data": {
      "text/plain": [
       "0.9763556511336849"
      ]
     },
     "execution_count": 17,
     "metadata": {},
     "output_type": "execute_result"
    }
   ],
   "source": [
    "# evaluating the model accuracy by r2_score\n",
    "from sklearn.metrics import r2_score\n",
    "r2_score(y_train,y_pred)"
   ]
  },
  {
   "cell_type": "code",
   "execution_count": 25,
   "id": "13d73ea1",
   "metadata": {},
   "outputs": [
    {
     "data": {
      "text/plain": [
       "SVC()"
      ]
     },
     "execution_count": 25,
     "metadata": {},
     "output_type": "execute_result"
    }
   ],
   "source": [
    "from sklearn.svm import SVC\n",
    "model1=SVC()\n",
    "model1.fit(x_train_vect,y_train)"
   ]
  },
  {
   "cell_type": "code",
   "execution_count": 26,
   "id": "05e0381e",
   "metadata": {},
   "outputs": [
    {
     "data": {
      "text/plain": [
       "array([0, 0, 0, 0, 0, 0, 1, 0, 0, 1, 1, 1, 1, 1, 1, 1, 0, 0, 0, 1, 0, 0,\n",
       "       1, 0, 0, 1, 0, 1, 1, 1, 0, 0, 0, 0, 1, 0, 0, 0, 0, 1, 1, 0, 0, 0,\n",
       "       0, 0, 0, 0, 0, 0, 1, 0, 1, 1, 0, 0, 0, 0, 0, 0, 0, 0, 0, 0, 0, 0,\n",
       "       0, 0, 1, 0, 1, 1, 1, 1, 0, 0, 0, 1, 0, 0, 1, 1, 1, 0, 1, 1, 0, 0,\n",
       "       1, 0, 0, 0, 0, 0, 0, 0, 0, 0, 1, 0, 0, 0, 1, 1, 1, 0, 1, 1, 0, 0,\n",
       "       0, 0, 0, 1, 0, 0, 1, 0, 1, 0, 0, 0, 1, 0, 0, 0, 0, 1, 0, 0, 0, 1,\n",
       "       0, 0, 1, 1, 1, 1, 1, 0, 0, 1, 0, 0, 0, 0, 0, 0, 0, 0, 0, 0, 1, 1,\n",
       "       0, 0, 1, 0, 1, 1, 0, 0, 1, 0, 0, 0, 0, 0, 0, 0, 0, 1, 0, 0, 0, 0,\n",
       "       0, 1, 0, 0, 1, 1, 0, 0, 0, 0, 0, 1, 0, 1, 1, 0, 0, 0, 0, 0, 1, 1,\n",
       "       0, 0, 1, 1, 1, 0, 0, 0, 1, 0, 0, 0, 1, 0, 0, 1, 1, 0, 1, 1, 0, 1,\n",
       "       0, 0, 0, 0, 1, 1, 0, 0, 1, 0, 0, 0, 1, 0, 1, 1, 0, 0, 0, 0, 1, 1,\n",
       "       1, 1, 0, 0, 1, 1, 0, 0], dtype=int64)"
      ]
     },
     "execution_count": 26,
     "metadata": {},
     "output_type": "execute_result"
    }
   ],
   "source": [
    "y_pred1 = model1.predict(x_test_vect)\n",
    "y_pred1"
   ]
  },
  {
   "cell_type": "code",
   "execution_count": 20,
   "id": "75959f92",
   "metadata": {},
   "outputs": [
    {
     "data": {
      "text/plain": [
       "0.72"
      ]
     },
     "execution_count": 20,
     "metadata": {},
     "output_type": "execute_result"
    }
   ],
   "source": [
    "from sklearn.metrics import accuracy_score\n",
    "accuracy_score(y_pred1,y_test)"
   ]
  },
  {
   "cell_type": "code",
   "execution_count": 32,
   "id": "57e080cb",
   "metadata": {},
   "outputs": [],
   "source": [
    "#model.predict(['Wow... Loved this place.']) # it does not accept text data, we have convert it to numerical data using count vectorizer "
   ]
  },
  {
   "cell_type": "code",
   "execution_count": 21,
   "id": "5e8295c9",
   "metadata": {},
   "outputs": [
    {
     "data": {
      "text/plain": [
       "array([0, 0, 0, 0, 1, 1, 1, 0, 0, 1, 1, 1, 0, 1, 1, 1, 0, 0, 0, 1, 0, 1,\n",
       "       1, 0, 0, 1, 1, 1, 1, 0, 1, 0, 0, 0, 0, 0, 0, 1, 0, 1, 1, 0, 1, 0,\n",
       "       0, 1, 0, 1, 0, 0, 1, 1, 1, 1, 0, 0, 0, 1, 0, 1, 1, 0, 1, 1, 0, 1,\n",
       "       1, 0, 1, 0, 1, 1, 1, 0, 0, 0, 0, 1, 0, 1, 0, 1, 1, 0, 1, 1, 0, 0,\n",
       "       1, 0, 0, 1, 0, 0, 0, 1, 1, 0, 1, 1, 1, 1, 1, 0, 1, 1, 1, 1, 0, 0,\n",
       "       0, 1, 0, 1, 1, 0, 1, 1, 1, 1, 0, 0, 1, 0, 0, 0, 1, 0, 0, 0, 0, 1,\n",
       "       0, 0, 1, 1, 1, 1, 1, 0, 1, 1, 1, 0, 0, 0, 0, 0, 0, 1, 1, 1, 1, 1,\n",
       "       0, 0, 1, 0, 1, 0, 0, 0, 1, 1, 0, 0, 1, 0, 0, 0, 0, 0, 1, 0, 0, 0,\n",
       "       0, 1, 0, 0, 1, 0, 0, 1, 1, 0, 1, 1, 0, 1, 1, 0, 0, 1, 1, 0, 1, 1,\n",
       "       0, 0, 1, 1, 1, 0, 1, 1, 1, 0, 0, 0, 1, 1, 0, 1, 1, 0, 1, 1, 1, 1,\n",
       "       0, 0, 0, 0, 0, 1, 0, 0, 0, 0, 0, 1, 1, 0, 1, 0, 0, 1, 0, 0, 1, 1,\n",
       "       1, 1, 0, 1, 1, 0, 0, 0], dtype=int64)"
      ]
     },
     "execution_count": 21,
     "metadata": {},
     "output_type": "execute_result"
    }
   ],
   "source": [
    "# PIPELINE (combines two estimators = svc+countvectorizer)\n",
    "# we use pipeline so that we need not vectorize the text every time we want to predict the output \n",
    "from sklearn.pipeline import make_pipeline \n",
    "\n",
    "model2 = make_pipeline(CountVectorizer(),SVC())\n",
    "\n",
    "model2.fit(x_train,y_train) \n",
    "\n",
    "y_pred2 = model2.predict(x_test)\n",
    "y_pred2"
   ]
  },
  {
   "cell_type": "code",
   "execution_count": 22,
   "id": "1d173821",
   "metadata": {},
   "outputs": [
    {
     "data": {
      "text/plain": [
       "0.792"
      ]
     },
     "execution_count": 22,
     "metadata": {},
     "output_type": "execute_result"
    }
   ],
   "source": [
    "from sklearn.metrics import accuracy_score\n",
    "accuracy_score(y_pred2,y_test)"
   ]
  },
  {
   "cell_type": "code",
   "execution_count": 35,
   "id": "3d75c028",
   "metadata": {},
   "outputs": [
    {
     "data": {
      "text/plain": [
       "array([1, 0, 0, 0, 0, 1, 1, 0, 0, 1, 1, 1, 1, 1, 1, 1, 0, 1, 0, 1, 0, 1,\n",
       "       1, 1, 1, 1, 0, 1, 1, 1, 1, 1, 1, 0, 1, 0, 0, 0, 1, 1, 1, 0, 0, 0,\n",
       "       0, 0, 1, 0, 0, 0, 1, 0, 1, 1, 0, 0, 0, 1, 0, 1, 0, 0, 1, 1, 0, 0,\n",
       "       1, 0, 1, 0, 1, 1, 1, 1, 0, 0, 0, 1, 0, 1, 1, 1, 1, 0, 1, 1, 1, 0,\n",
       "       1, 1, 0, 1, 0, 0, 0, 0, 1, 0, 1, 1, 0, 1, 1, 1, 0, 1, 1, 1, 0, 0,\n",
       "       0, 1, 0, 1, 1, 0, 1, 1, 1, 1, 1, 1, 1, 1, 0, 0, 0, 1, 0, 0, 0, 1,\n",
       "       0, 0, 1, 1, 1, 1, 1, 0, 0, 1, 1, 0, 0, 0, 1, 1, 1, 0, 1, 0, 1, 1,\n",
       "       1, 0, 1, 1, 1, 1, 0, 0, 1, 0, 0, 0, 1, 0, 0, 0, 0, 1, 1, 0, 0, 1,\n",
       "       0, 1, 0, 1, 1, 0, 0, 0, 0, 0, 0, 1, 0, 1, 1, 0, 1, 0, 0, 0, 1, 1,\n",
       "       0, 1, 1, 1, 1, 0, 1, 0, 1, 0, 0, 1, 1, 0, 0, 1, 1, 0, 1, 1, 1, 1,\n",
       "       0, 0, 1, 0, 0, 1, 0, 0, 1, 0, 1, 1, 1, 1, 1, 0, 0, 1, 0, 1, 1, 1,\n",
       "       1, 1, 0, 1, 1, 1, 0, 0], dtype=int64)"
      ]
     },
     "execution_count": 35,
     "metadata": {},
     "output_type": "execute_result"
    }
   ],
   "source": [
    "# APPLY ML MODEL (NAIVE BAYES)\n",
    "from sklearn.naive_bayes import MultinomialNB\n",
    "model3 = MultinomialNB() \n",
    "model3.fit(x_train_vect,y_train)\n",
    "y_pred3 = model3.predict(x_test_vect)\n",
    "y_pred3\n"
   ]
  },
  {
   "cell_type": "code",
   "execution_count": 36,
   "id": "e787f86d",
   "metadata": {},
   "outputs": [
    {
     "data": {
      "text/plain": [
       "0.744"
      ]
     },
     "execution_count": 36,
     "metadata": {},
     "output_type": "execute_result"
    }
   ],
   "source": [
    "from sklearn.metrics import accuracy_score\n",
    "accuracy_score(y_pred3,y_test)"
   ]
  },
  {
   "cell_type": "code",
   "execution_count": 37,
   "id": "0b84b31e",
   "metadata": {},
   "outputs": [
    {
     "data": {
      "text/plain": [
       "array([1, 0, 0, 0, 0, 0, 1, 0, 0, 1, 1, 1, 0, 1, 1, 1, 0, 0, 0, 1, 0, 0,\n",
       "       1, 0, 1, 1, 0, 1, 1, 0, 1, 1, 1, 0, 1, 0, 0, 1, 0, 1, 1, 1, 0, 0,\n",
       "       0, 0, 0, 0, 1, 1, 1, 1, 1, 1, 0, 0, 0, 1, 0, 1, 1, 0, 1, 1, 0, 1,\n",
       "       1, 0, 1, 0, 1, 1, 1, 0, 0, 0, 0, 1, 0, 1, 0, 1, 1, 0, 1, 1, 1, 0,\n",
       "       1, 0, 0, 1, 0, 0, 0, 1, 1, 0, 1, 0, 0, 1, 1, 1, 0, 1, 1, 1, 0, 0,\n",
       "       0, 1, 0, 1, 1, 0, 1, 1, 1, 1, 1, 0, 1, 0, 0, 0, 1, 0, 0, 0, 0, 1,\n",
       "       0, 0, 1, 1, 1, 1, 1, 0, 0, 1, 1, 0, 0, 0, 0, 0, 1, 0, 1, 0, 1, 1,\n",
       "       1, 0, 1, 1, 1, 1, 0, 0, 1, 1, 0, 0, 1, 0, 0, 0, 0, 1, 1, 0, 0, 1,\n",
       "       0, 1, 0, 0, 1, 0, 0, 0, 0, 1, 0, 1, 0, 1, 1, 0, 0, 0, 0, 0, 1, 1,\n",
       "       0, 1, 1, 1, 1, 0, 1, 1, 1, 0, 0, 1, 1, 0, 0, 0, 1, 0, 1, 1, 1, 1,\n",
       "       0, 1, 0, 0, 0, 1, 0, 1, 0, 0, 0, 1, 1, 1, 1, 0, 0, 1, 0, 0, 1, 1,\n",
       "       1, 1, 0, 1, 1, 1, 0, 0], dtype=int64)"
      ]
     },
     "execution_count": 37,
     "metadata": {},
     "output_type": "execute_result"
    }
   ],
   "source": [
    "# PIPELINE WITH MultinomialNB \n",
    "# PIPELINE (combines two estimators = MultinomialNB+countvectorizer)\n",
    "# we use pipeline so that we need not vectorize the text every time we want to predict the output \n",
    "from sklearn.pipeline import make_pipeline \n",
    "\n",
    "model4 = make_pipeline(CountVectorizer(),MultinomialNB())\n",
    "\n",
    "model4.fit(x_train,y_train) \n",
    "\n",
    "y_pred4 = model4.predict(x_test)\n",
    "y_pred4"
   ]
  },
  {
   "cell_type": "code",
   "execution_count": 38,
   "id": "1a136c75",
   "metadata": {},
   "outputs": [
    {
     "data": {
      "text/plain": [
       "0.784"
      ]
     },
     "execution_count": 38,
     "metadata": {},
     "output_type": "execute_result"
    }
   ],
   "source": [
    "from sklearn.metrics import accuracy_score\n",
    "accuracy_score(y_pred4,y_test)"
   ]
  },
  {
   "cell_type": "code",
   "execution_count": 39,
   "id": "c96f5eb9",
   "metadata": {},
   "outputs": [],
   "source": [
    "# # ACCURACY SCORES FOR ALL 4 MODELS \n",
    "# SVC                       - 0.72\n",
    "# SVC pipeline              - 0.792\n",
    "# MultinomialNB             - 0.744\n",
    "# MultinomialNB pipeline    - 0.784"
   ]
  },
  {
   "cell_type": "code",
   "execution_count": 40,
   "id": "6a146b45",
   "metadata": {},
   "outputs": [],
   "source": [
    "# joblib is more advanced than pickle, we use joblib for pipeline models \n",
    "# pickle model is used if svc or nb has higher accuracy "
   ]
  },
  {
   "cell_type": "code",
   "execution_count": 37,
   "id": "44c9e512",
   "metadata": {},
   "outputs": [
    {
     "data": {
      "text/plain": [
       "['good-bad.sav']"
      ]
     },
     "execution_count": 37,
     "metadata": {},
     "output_type": "execute_result"
    }
   ],
   "source": [
    "import joblib \n",
    "joblib.dump(model2,'good-bad.sav') #create a file for the best model to be used for predictions"
   ]
  },
  {
   "cell_type": "code",
   "execution_count": 38,
   "id": "e79b6f1a",
   "metadata": {},
   "outputs": [
    {
     "data": {
      "text/plain": [
       "Pipeline(steps=[('countvectorizer', CountVectorizer()), ('svc', SVC())])"
      ]
     },
     "execution_count": 38,
     "metadata": {},
     "output_type": "execute_result"
    }
   ],
   "source": [
    "import joblib \n",
    "text_model = joblib.load('good-bad.sav')   #reloading the created joblib model for predictions \n",
    "text_model"
   ]
  },
  {
   "cell_type": "code",
   "execution_count": 36,
   "id": "0de948d6",
   "metadata": {},
   "outputs": [
    {
     "name": "stdout",
     "output_type": "stream",
     "text": [
      "The review is [1]\n"
     ]
    }
   ],
   "source": [
    "\n",
    "review=text_model.predict(['Wow... Loved this place.'])# we are using joblib model to predict the output \n",
    "print(\"The review is\",review)"
   ]
  },
  {
   "cell_type": "code",
   "execution_count": null,
   "id": "4cc22981",
   "metadata": {},
   "outputs": [],
   "source": [
    "# SENTIMENT ANALYSIS  AND TWITTER SENTIMENTS \n",
    "# Sentiment analysis is the automated process of identifying and classifying subjective information in text data. This might be an opinion, a judgment, or a feeling about a particular topic or product feature.\n",
    "\n",
    "# The most common type of sentiment analysis is ‘polarity detection’ and involves classifying statements as Positive, Negative or Neutral.\n",
    "# Sentiment analysis uses Natural Language Processing (NLP) to make sense of human language, and machine learning to automatically deliver accurate results.\n",
    "\n",
    "# Connect sentiment analysis tools directly to your social platforms , so you can monitor your tweets as and when they come in, 24/7, and get up-to-the-minute insights from your social mentions.\n",
    "# Performing sentiment analysis on Twitter data involves five steps:\n",
    "\n",
    "# Gather relevant Twitter data\n",
    "# Clean your data using pre-processing techniques\n",
    "# Create a sentiment analysis machine learning model\n",
    "# Analyze your Twitter data using your sentiment analysis model\n",
    "# Visualize the results of your Twitter sentiment analysis\n"
   ]
  },
  {
   "cell_type": "code",
   "execution_count": null,
   "id": "b0a739a1",
   "metadata": {},
   "outputs": [],
   "source": []
  },
  {
   "cell_type": "code",
   "execution_count": null,
   "id": "991b3c2e",
   "metadata": {},
   "outputs": [],
   "source": []
  },
  {
   "cell_type": "code",
   "execution_count": null,
   "id": "51a0b237",
   "metadata": {},
   "outputs": [],
   "source": []
  }
 ],
 "metadata": {
  "kernelspec": {
   "display_name": "Python 3 (ipykernel)",
   "language": "python",
   "name": "python3"
  },
  "language_info": {
   "codemirror_mode": {
    "name": "ipython",
    "version": 3
   },
   "file_extension": ".py",
   "mimetype": "text/x-python",
   "name": "python",
   "nbconvert_exporter": "python",
   "pygments_lexer": "ipython3",
   "version": "3.9.5"
  }
 },
 "nbformat": 4,
 "nbformat_minor": 5
}
